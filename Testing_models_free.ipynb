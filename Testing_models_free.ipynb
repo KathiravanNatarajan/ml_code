{
 "cells": [
  {
   "cell_type": "code",
   "execution_count": 1,
   "metadata": {},
   "outputs": [],
   "source": [
    "import joblib \n",
    "import pandas as pd \n",
    "import time \n",
    "import statsmodels.api as sm\n",
    "from sklearn.metrics import r2_score\n",
    "from sklearn.metrics import mean_squared_error\n",
    "val_features = pd.read_csv(\"../train_test_val_split/val_features.csv\")\n",
    "val_labels = pd.read_csv(\"../train_test_val_split/val_labels.csv\", header=None) \n",
    "\n",
    "\n",
    "test_features = pd.read_csv(\"../train_test_val_split/test_features.csv\") \n",
    "test_labels = pd.read_csv(\"../train_test_val_split/test_labels.csv\", header=None) "
   ]
  },
  {
   "cell_type": "markdown",
   "metadata": {},
   "source": [
    "### Read in models"
   ]
  },
  {
   "cell_type": "code",
   "execution_count": 3,
   "metadata": {},
   "outputs": [],
   "source": [
    "models = {}\n",
    "#['poly','dtr','elasticnet','lasso','LR','ridge','OLS' ]\n",
    "for model in ['OLS_with_inter', 'poly',\\\n",
    "              'dtr','elasticnet','lasso',\\\n",
    "              'LR','ridge','OLS', 'statsmodel_ridge',\\\n",
    "             'statsmodel_lasso', 'gbr', 'OLS_with_inter',\\\n",
    "             'OLS_without_inter', 'rfr', 'xgbr']:\n",
    "    models[model] = joblib.load(\"../tmp_models/{}_model.pkl\".format(model))"
   ]
  },
  {
   "cell_type": "code",
   "execution_count": 4,
   "metadata": {},
   "outputs": [],
   "source": [
    "def evaluate_model(name, model, features, labels):\n",
    "    start = time.time()\n",
    "    if name in ['OLS_with_inter', 'statsmodel_ridge', 'statsmodel_lasso']:\n",
    "        features = sm.add_constant(features)\n",
    "    pred = model.predict(features)\n",
    "    end = time.time()\n",
    "    r2 = r2_score(labels, pred)\n",
    "    rmse = mean_squared_error(labels, pred, squared=False)\n",
    "    print(\" {} -- R^2: {} / RMSE: {}\".format(name, r2, rmse))"
   ]
  },
  {
   "cell_type": "code",
   "execution_count": 5,
   "metadata": {
    "scrolled": true
   },
   "outputs": [
    {
     "name": "stderr",
     "output_type": "stream",
     "text": [
      "C:\\Users\\sunka\\Anaconda3\\lib\\site-packages\\numpy\\core\\fromnumeric.py:2389: FutureWarning: Method .ptp is deprecated and will be removed in a future version. Use numpy.ptp instead.\n",
      "  return ptp(axis=axis, out=out, **kwargs)\n",
      "C:\\Users\\sunka\\Anaconda3\\lib\\site-packages\\numpy\\core\\fromnumeric.py:2389: FutureWarning: Method .ptp is deprecated and will be removed in a future version. Use numpy.ptp instead.\n",
      "  return ptp(axis=axis, out=out, **kwargs)\n",
      "C:\\Users\\sunka\\Anaconda3\\lib\\site-packages\\numpy\\core\\fromnumeric.py:2389: FutureWarning: Method .ptp is deprecated and will be removed in a future version. Use numpy.ptp instead.\n",
      "  return ptp(axis=axis, out=out, **kwargs)\n"
     ]
    },
    {
     "name": "stdout",
     "output_type": "stream",
     "text": [
      " OLS_with_inter -- R^2: 0.11996906272403374 / RMSE: 1081.0744813766555\n",
      " poly -- R^2: 0.15070653631082942 / RMSE: 1062.0269483798688\n",
      " dtr -- R^2: -0.19562987695675904 / RMSE: 1260.100040323471\n",
      " elasticnet -- R^2: 0.11979187626940901 / RMSE: 1081.1833082971557\n",
      " lasso -- R^2: 0.11979187626940901 / RMSE: 1081.1833082971557\n",
      " LR -- R^2: 0.11979187890769682 / RMSE: 1081.1833066768158\n",
      " ridge -- R^2: 0.119791878907198 / RMSE: 1081.1833066771221\n",
      " OLS -- R^2: -0.2407100125911641 / RMSE: 1283.6357074394741\n",
      " statsmodel_ridge -- R^2: 0.11996906272403374 / RMSE: 1081.0744813766555\n",
      " statsmodel_lasso -- R^2: 0.11997172662225652 / RMSE: 1081.0728451418101\n",
      " gbr -- R^2: 0.11196844650762383 / RMSE: 1085.9775434619744\n",
      " OLS_without_inter -- R^2: -0.2407100125911641 / RMSE: 1283.6357074394741\n",
      " rfr -- R^2: 0.16649724831996648 / RMSE: 1052.1076174820894\n",
      " xgbr -- R^2: 0.1702618819158761 / RMSE: 1049.7289317593463\n"
     ]
    }
   ],
   "source": [
    "for name, model in models.items():\n",
    "    evaluate_model(name, model, val_features, val_labels)"
   ]
  },
  {
   "cell_type": "code",
   "execution_count": 6,
   "metadata": {},
   "outputs": [
    {
     "name": "stdout",
     "output_type": "stream",
     "text": [
      " xgbr -- R^2: 0.17987099743877988 / RMSE: 1075.143510412467\n"
     ]
    }
   ],
   "source": [
    "evaluate_model('xgbr', model, test_features, test_labels)"
   ]
  },
  {
   "cell_type": "code",
   "execution_count": null,
   "metadata": {},
   "outputs": [],
   "source": []
  }
 ],
 "metadata": {
  "kernelspec": {
   "display_name": "Python 3",
   "language": "python",
   "name": "python3"
  },
  "language_info": {
   "codemirror_mode": {
    "name": "ipython",
    "version": 3
   },
   "file_extension": ".py",
   "mimetype": "text/x-python",
   "name": "python",
   "nbconvert_exporter": "python",
   "pygments_lexer": "ipython3",
   "version": "3.7.4"
  },
  "varInspector": {
   "cols": {
    "lenName": 16,
    "lenType": 16,
    "lenVar": 40
   },
   "kernels_config": {
    "python": {
     "delete_cmd_postfix": "",
     "delete_cmd_prefix": "del ",
     "library": "var_list.py",
     "varRefreshCmd": "print(var_dic_list())"
    },
    "r": {
     "delete_cmd_postfix": ") ",
     "delete_cmd_prefix": "rm(",
     "library": "var_list.r",
     "varRefreshCmd": "cat(var_dic_list()) "
    }
   },
   "types_to_exclude": [
    "module",
    "function",
    "builtin_function_or_method",
    "instance",
    "_Feature"
   ],
   "window_display": false
  }
 },
 "nbformat": 4,
 "nbformat_minor": 2
}
